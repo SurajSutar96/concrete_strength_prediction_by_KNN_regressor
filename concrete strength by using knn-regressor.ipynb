{
 "cells": [
  {
   "cell_type": "code",
   "execution_count": 1,
   "id": "5df9c26e",
   "metadata": {},
   "outputs": [],
   "source": [
    "import pandas as pd\n",
    "import numpy as np\n",
    "import seaborn as sns\n",
    "import matplotlib.pyplot as plt\n",
    "from sklearn.neighbors import KNeighborsRegressor\n",
    "from sklearn.model_selection import train_test_split\n",
    "from sklearn.preprocessing import MinMaxScaler,StandardScaler\n",
    "from sklearn.metrics import r2_score,mean_absolute_error,mean_squared_error\n",
    "import warnings\n",
    "warnings.filterwarnings('ignore')"
   ]
  },
  {
   "cell_type": "raw",
   "id": "4db48a48",
   "metadata": {},
   "source": [
    "####################### Problem Statement ######################\n",
    "--> By using 'Cement', 'Blast Furnace Slag', 'Fly Ash', 'Water', 'Superplasticizer','Coarse Aggregate', 'Fine Aggregate', 'Age', 'Strength' identify the strength of the concrete\n",
    "--> These are the Various parameters by which we can calsulate the strength of the concrete"
   ]
  },
  {
   "cell_type": "raw",
   "id": "a41ceecd",
   "metadata": {},
   "source": [
    "####################### Data Gathering ########################\n",
    "--> We can get this data from affcons.limited it is an well established company in the infastructure field"
   ]
  },
  {
   "cell_type": "code",
   "execution_count": 2,
   "id": "1b2aa4e9",
   "metadata": {},
   "outputs": [
    {
     "data": {
      "text/html": [
       "<div>\n",
       "<style scoped>\n",
       "    .dataframe tbody tr th:only-of-type {\n",
       "        vertical-align: middle;\n",
       "    }\n",
       "\n",
       "    .dataframe tbody tr th {\n",
       "        vertical-align: top;\n",
       "    }\n",
       "\n",
       "    .dataframe thead th {\n",
       "        text-align: right;\n",
       "    }\n",
       "</style>\n",
       "<table border=\"1\" class=\"dataframe\">\n",
       "  <thead>\n",
       "    <tr style=\"text-align: right;\">\n",
       "      <th></th>\n",
       "      <th>Cement</th>\n",
       "      <th>Blast Furnace Slag</th>\n",
       "      <th>Fly Ash</th>\n",
       "      <th>Water</th>\n",
       "      <th>Superplasticizer</th>\n",
       "      <th>Coarse Aggregate</th>\n",
       "      <th>Fine Aggregate</th>\n",
       "      <th>Age</th>\n",
       "      <th>Strength</th>\n",
       "    </tr>\n",
       "  </thead>\n",
       "  <tbody>\n",
       "    <tr>\n",
       "      <th>0</th>\n",
       "      <td>540.0</td>\n",
       "      <td>0.0</td>\n",
       "      <td>0.0</td>\n",
       "      <td>162.0</td>\n",
       "      <td>2.5</td>\n",
       "      <td>1040.0</td>\n",
       "      <td>676.0</td>\n",
       "      <td>28</td>\n",
       "      <td>79.99</td>\n",
       "    </tr>\n",
       "    <tr>\n",
       "      <th>1</th>\n",
       "      <td>540.0</td>\n",
       "      <td>0.0</td>\n",
       "      <td>0.0</td>\n",
       "      <td>162.0</td>\n",
       "      <td>2.5</td>\n",
       "      <td>1055.0</td>\n",
       "      <td>676.0</td>\n",
       "      <td>28</td>\n",
       "      <td>61.89</td>\n",
       "    </tr>\n",
       "    <tr>\n",
       "      <th>2</th>\n",
       "      <td>332.5</td>\n",
       "      <td>142.5</td>\n",
       "      <td>0.0</td>\n",
       "      <td>228.0</td>\n",
       "      <td>0.0</td>\n",
       "      <td>932.0</td>\n",
       "      <td>594.0</td>\n",
       "      <td>270</td>\n",
       "      <td>40.27</td>\n",
       "    </tr>\n",
       "    <tr>\n",
       "      <th>3</th>\n",
       "      <td>332.5</td>\n",
       "      <td>142.5</td>\n",
       "      <td>0.0</td>\n",
       "      <td>228.0</td>\n",
       "      <td>0.0</td>\n",
       "      <td>932.0</td>\n",
       "      <td>594.0</td>\n",
       "      <td>365</td>\n",
       "      <td>41.05</td>\n",
       "    </tr>\n",
       "    <tr>\n",
       "      <th>4</th>\n",
       "      <td>198.6</td>\n",
       "      <td>132.4</td>\n",
       "      <td>0.0</td>\n",
       "      <td>192.0</td>\n",
       "      <td>0.0</td>\n",
       "      <td>978.4</td>\n",
       "      <td>825.5</td>\n",
       "      <td>360</td>\n",
       "      <td>44.30</td>\n",
       "    </tr>\n",
       "  </tbody>\n",
       "</table>\n",
       "</div>"
      ],
      "text/plain": [
       "   Cement  Blast Furnace Slag  Fly Ash  Water  Superplasticizer  \\\n",
       "0   540.0                 0.0      0.0  162.0               2.5   \n",
       "1   540.0                 0.0      0.0  162.0               2.5   \n",
       "2   332.5               142.5      0.0  228.0               0.0   \n",
       "3   332.5               142.5      0.0  228.0               0.0   \n",
       "4   198.6               132.4      0.0  192.0               0.0   \n",
       "\n",
       "   Coarse Aggregate  Fine Aggregate  Age  Strength  \n",
       "0            1040.0           676.0   28     79.99  \n",
       "1            1055.0           676.0   28     61.89  \n",
       "2             932.0           594.0  270     40.27  \n",
       "3             932.0           594.0  365     41.05  \n",
       "4             978.4           825.5  360     44.30  "
      ]
     },
     "execution_count": 2,
     "metadata": {},
     "output_type": "execute_result"
    }
   ],
   "source": [
    "df=pd.read_csv('concrete_data.csv')\n",
    "df.head()"
   ]
  },
  {
   "cell_type": "markdown",
   "id": "866ba92b",
   "metadata": {},
   "source": [
    "# EDA-Exploratory Data Analysis"
   ]
  },
  {
   "cell_type": "code",
   "execution_count": 3,
   "id": "83cab120",
   "metadata": {},
   "outputs": [
    {
     "data": {
      "text/plain": [
       "Index(['Cement', 'Blast Furnace Slag', 'Fly Ash', 'Water', 'Superplasticizer',\n",
       "       'Coarse Aggregate', 'Fine Aggregate', 'Age', 'Strength'],\n",
       "      dtype='object')"
      ]
     },
     "execution_count": 3,
     "metadata": {},
     "output_type": "execute_result"
    }
   ],
   "source": [
    "# Checking the Feature Names \n",
    "df.columns"
   ]
  },
  {
   "cell_type": "code",
   "execution_count": 4,
   "id": "cbfc6b2f",
   "metadata": {},
   "outputs": [
    {
     "data": {
      "text/plain": [
       "(1030, 9)"
      ]
     },
     "execution_count": 4,
     "metadata": {},
     "output_type": "execute_result"
    }
   ],
   "source": [
    "# Checking the shape of the dataset\n",
    "df.shape"
   ]
  },
  {
   "cell_type": "code",
   "execution_count": 5,
   "id": "5e07e5d1",
   "metadata": {},
   "outputs": [
    {
     "data": {
      "text/plain": [
       "Cement                0\n",
       "Blast Furnace Slag    0\n",
       "Fly Ash               0\n",
       "Water                 0\n",
       "Superplasticizer      0\n",
       "Coarse Aggregate      0\n",
       "Fine Aggregate        0\n",
       "Age                   0\n",
       "Strength              0\n",
       "dtype: int64"
      ]
     },
     "execution_count": 5,
     "metadata": {},
     "output_type": "execute_result"
    }
   ],
   "source": [
    "# Checking for the null values\n",
    "df.isna().sum()"
   ]
  },
  {
   "cell_type": "code",
   "execution_count": 6,
   "id": "dca8e6e0",
   "metadata": {},
   "outputs": [],
   "source": [
    "# There are not any null values in the dataset"
   ]
  },
  {
   "cell_type": "code",
   "execution_count": 7,
   "id": "ae5c054b",
   "metadata": {},
   "outputs": [
    {
     "data": {
      "text/plain": [
       "<AxesSubplot:>"
      ]
     },
     "execution_count": 7,
     "metadata": {},
     "output_type": "execute_result"
    },
    {
     "data": {
      "image/png": "[encoded data removed]",
      "text/plain": [
       "<Figure size 1080x360 with 1 Axes>"
      ]
     },
     "metadata": {
      "needs_background": "light"
     },
     "output_type": "display_data"
    }
   ],
   "source": [
    "plt.figure(figsize=(15,5))\n",
    "df.boxplot()"
   ]
  },
  {
   "cell_type": "code",
   "execution_count": 8,
   "id": "6e6cf737",
   "metadata": {},
   "outputs": [],
   "source": [
    "# Here We can observe that there are some outliers present in these dataset\n",
    "# We need to treat that outliers it directly gets affected on the mean and standard deviation"
   ]
  },
  {
   "cell_type": "code",
   "execution_count": 9,
   "id": "77c431dd",
   "metadata": {},
   "outputs": [],
   "source": [
    "# Here we can treat the outliers by using the for loop and IQR ( Inter quartile Range ) method.............."
   ]
  },
  {
   "cell_type": "code",
   "execution_count": 10,
   "id": "0793d2ba",
   "metadata": {},
   "outputs": [],
   "source": [
    "for i in df.columns:\n",
    "    q1=df[i].quantile(0.25)\n",
    "    q3=df[i].quantile(0.75)\n",
    "    iqr=q3-q1\n",
    "    upper_tail=q3+1.5*iqr\n",
    "    lower_tail=q1-1.5*iqr\n",
    "#     mean=df[i].mean()\n",
    "    df.loc[df[i]>upper_tail,i]=upper_tail"
   ]
  },
  {
   "cell_type": "code",
   "execution_count": 11,
   "id": "cc874748",
   "metadata": {},
   "outputs": [
    {
     "data": {
      "text/plain": [
       "<AxesSubplot:>"
      ]
     },
     "execution_count": 11,
     "metadata": {},
     "output_type": "execute_result"
    },
    {
     "data": {
      "image/png": "[encoded data removed]",
      "text/plain": [
       "<Figure size 1080x360 with 1 Axes>"
      ]
     },
     "metadata": {
      "needs_background": "light"
     },
     "output_type": "display_data"
    }
   ],
   "source": [
    "plt.figure(figsize=(15,5))\n",
    "df.boxplot()"
   ]
  },
  {
   "cell_type": "code",
   "execution_count": 12,
   "id": "e1b27ab6",
   "metadata": {},
   "outputs": [
    {
     "data": {
      "text/html": [
       "<div>\n",
       "<style scoped>\n",
       "    .dataframe tbody tr th:only-of-type {\n",
       "        vertical-align: middle;\n",
       "    }\n",
       "\n",
       "    .dataframe tbody tr th {\n",
       "        vertical-align: top;\n",
       "    }\n",
       "\n",
       "    .dataframe thead th {\n",
       "        text-align: right;\n",
       "    }\n",
       "</style>\n",
       "<table border=\"1\" class=\"dataframe\">\n",
       "  <thead>\n",
       "    <tr style=\"text-align: right;\">\n",
       "      <th></th>\n",
       "      <th>Cement</th>\n",
       "      <th>Blast Furnace Slag</th>\n",
       "      <th>Fly Ash</th>\n",
       "      <th>Water</th>\n",
       "      <th>Superplasticizer</th>\n",
       "      <th>Coarse Aggregate</th>\n",
       "      <th>Fine Aggregate</th>\n",
       "      <th>Age</th>\n",
       "      <th>Strength</th>\n",
       "    </tr>\n",
       "  </thead>\n",
       "  <tbody>\n",
       "    <tr>\n",
       "      <th>Cement</th>\n",
       "      <td>1.00</td>\n",
       "      <td>-0.28</td>\n",
       "      <td>-0.40</td>\n",
       "      <td>-0.08</td>\n",
       "      <td>0.08</td>\n",
       "      <td>-0.11</td>\n",
       "      <td>-0.23</td>\n",
       "      <td>0.05</td>\n",
       "      <td>0.50</td>\n",
       "    </tr>\n",
       "    <tr>\n",
       "      <th>Blast Furnace Slag</th>\n",
       "      <td>-0.28</td>\n",
       "      <td>1.00</td>\n",
       "      <td>-0.32</td>\n",
       "      <td>0.11</td>\n",
       "      <td>0.04</td>\n",
       "      <td>-0.28</td>\n",
       "      <td>-0.28</td>\n",
       "      <td>-0.05</td>\n",
       "      <td>0.13</td>\n",
       "    </tr>\n",
       "    <tr>\n",
       "      <th>Fly Ash</th>\n",
       "      <td>-0.40</td>\n",
       "      <td>-0.32</td>\n",
       "      <td>1.00</td>\n",
       "      <td>-0.26</td>\n",
       "      <td>0.40</td>\n",
       "      <td>-0.01</td>\n",
       "      <td>0.08</td>\n",
       "      <td>-0.09</td>\n",
       "      <td>-0.11</td>\n",
       "    </tr>\n",
       "    <tr>\n",
       "      <th>Water</th>\n",
       "      <td>-0.08</td>\n",
       "      <td>0.11</td>\n",
       "      <td>-0.26</td>\n",
       "      <td>1.00</td>\n",
       "      <td>-0.66</td>\n",
       "      <td>-0.18</td>\n",
       "      <td>-0.45</td>\n",
       "      <td>0.19</td>\n",
       "      <td>-0.29</td>\n",
       "    </tr>\n",
       "    <tr>\n",
       "      <th>Superplasticizer</th>\n",
       "      <td>0.08</td>\n",
       "      <td>0.04</td>\n",
       "      <td>0.40</td>\n",
       "      <td>-0.66</td>\n",
       "      <td>1.00</td>\n",
       "      <td>-0.26</td>\n",
       "      <td>0.22</td>\n",
       "      <td>-0.12</td>\n",
       "      <td>0.37</td>\n",
       "    </tr>\n",
       "    <tr>\n",
       "      <th>Coarse Aggregate</th>\n",
       "      <td>-0.11</td>\n",
       "      <td>-0.28</td>\n",
       "      <td>-0.01</td>\n",
       "      <td>-0.18</td>\n",
       "      <td>-0.26</td>\n",
       "      <td>1.00</td>\n",
       "      <td>-0.18</td>\n",
       "      <td>0.01</td>\n",
       "      <td>-0.17</td>\n",
       "    </tr>\n",
       "    <tr>\n",
       "      <th>Fine Aggregate</th>\n",
       "      <td>-0.23</td>\n",
       "      <td>-0.28</td>\n",
       "      <td>0.08</td>\n",
       "      <td>-0.45</td>\n",
       "      <td>0.22</td>\n",
       "      <td>-0.18</td>\n",
       "      <td>1.00</td>\n",
       "      <td>-0.10</td>\n",
       "      <td>-0.17</td>\n",
       "    </tr>\n",
       "    <tr>\n",
       "      <th>Age</th>\n",
       "      <td>0.05</td>\n",
       "      <td>-0.05</td>\n",
       "      <td>-0.09</td>\n",
       "      <td>0.19</td>\n",
       "      <td>-0.12</td>\n",
       "      <td>0.01</td>\n",
       "      <td>-0.10</td>\n",
       "      <td>1.00</td>\n",
       "      <td>0.47</td>\n",
       "    </tr>\n",
       "    <tr>\n",
       "      <th>Strength</th>\n",
       "      <td>0.50</td>\n",
       "      <td>0.13</td>\n",
       "      <td>-0.11</td>\n",
       "      <td>-0.29</td>\n",
       "      <td>0.37</td>\n",
       "      <td>-0.17</td>\n",
       "      <td>-0.17</td>\n",
       "      <td>0.47</td>\n",
       "      <td>1.00</td>\n",
       "    </tr>\n",
       "  </tbody>\n",
       "</table>\n",
       "</div>"
      ],
      "text/plain": [
       "                    Cement  Blast Furnace Slag  Fly Ash  Water  \\\n",
       "Cement                1.00               -0.28    -0.40  -0.08   \n",
       "Blast Furnace Slag   -0.28                1.00    -0.32   0.11   \n",
       "Fly Ash              -0.40               -0.32     1.00  -0.26   \n",
       "Water                -0.08                0.11    -0.26   1.00   \n",
       "Superplasticizer      0.08                0.04     0.40  -0.66   \n",
       "Coarse Aggregate     -0.11               -0.28    -0.01  -0.18   \n",
       "Fine Aggregate       -0.23               -0.28     0.08  -0.45   \n",
       "Age                   0.05               -0.05    -0.09   0.19   \n",
       "Strength              0.50                0.13    -0.11  -0.29   \n",
       "\n",
       "                    Superplasticizer  Coarse Aggregate  Fine Aggregate   Age  \\\n",
       "Cement                          0.08             -0.11           -0.23  0.05   \n",
       "Blast Furnace Slag              0.04             -0.28           -0.28 -0.05   \n",
       "Fly Ash                         0.40             -0.01            0.08 -0.09   \n",
       "Water                          -0.66             -0.18           -0.45  0.19   \n",
       "Superplasticizer                1.00             -0.26            0.22 -0.12   \n",
       "Coarse Aggregate               -0.26              1.00           -0.18  0.01   \n",
       "Fine Aggregate                  0.22             -0.18            1.00 -0.10   \n",
       "Age                            -0.12              0.01           -0.10  1.00   \n",
       "Strength                        0.37             -0.17           -0.17  0.47   \n",
       "\n",
       "                    Strength  \n",
       "Cement                  0.50  \n",
       "Blast Furnace Slag      0.13  \n",
       "Fly Ash                -0.11  \n",
       "Water                  -0.29  \n",
       "Superplasticizer        0.37  \n",
       "Coarse Aggregate       -0.17  \n",
       "Fine Aggregate         -0.17  \n",
       "Age                     0.47  \n",
       "Strength                1.00  "
      ]
     },
     "execution_count": 12,
     "metadata": {},
     "output_type": "execute_result"
    }
   ],
   "source": [
    "df.corr().round(2)"
   ]
  },
  {
   "cell_type": "code",
   "execution_count": 13,
   "id": "9ee5aa82",
   "metadata": {},
   "outputs": [
    {
     "data": {
      "text/plain": [
       "<AxesSubplot:>"
      ]
     },
     "execution_count": 13,
     "metadata": {},
     "output_type": "execute_result"
    },
    {
     "data": {
      "image/png": "[encoded data removed]",
      "text/plain": [
       "<Figure size 504x504 with 2 Axes>"
      ]
     },
     "metadata": {
      "needs_background": "light"
     },
     "output_type": "display_data"
    }
   ],
   "source": [
    "plt.figure(figsize=(7,7))\n",
    "sns.heatmap(df.corr(),annot=True)"
   ]
  },
  {
   "cell_type": "code",
   "execution_count": 14,
   "id": "fd38d126",
   "metadata": {},
   "outputs": [],
   "source": [
    "# sns.pairplot(df)"
   ]
  },
  {
   "cell_type": "code",
   "execution_count": 15,
   "id": "23bda5e8",
   "metadata": {},
   "outputs": [],
   "source": [
    "x=df.drop('Strength',axis=1)\n",
    "y=df['Strength']"
   ]
  },
  {
   "cell_type": "markdown",
   "id": "7ac38769",
   "metadata": {},
   "source": [
    "# Train Test Split"
   ]
  },
  {
   "cell_type": "code",
   "execution_count": 16,
   "id": "eb818208",
   "metadata": {},
   "outputs": [],
   "source": [
    "x_train,x_test,y_train,y_test=train_test_split(x,y,test_size=0.2,random_state=1111)"
   ]
  },
  {
   "cell_type": "markdown",
   "id": "5a7f2799",
   "metadata": {},
   "source": [
    "# Model Building"
   ]
  },
  {
   "cell_type": "code",
   "execution_count": 17,
   "id": "1a5e3285",
   "metadata": {},
   "outputs": [],
   "source": [
    "knn_model=KNeighborsRegressor()"
   ]
  },
  {
   "cell_type": "code",
   "execution_count": 18,
   "id": "712ade80",
   "metadata": {},
   "outputs": [
    {
     "data": {
      "text/html": [
       "<style>#sk-container-id-1 {color: black;background-color: white;}#sk-container-id-1 pre{padding: 0;}#sk-container-id-1 div.sk-toggleable {background-color: white;}#sk-container-id-1 label.sk-toggleable__label {cursor: pointer;display: block;width: 100%;margin-bottom: 0;padding: 0.3em;box-sizing: border-box;text-align: center;}#sk-container-id-1 label.sk-toggleable__label-arrow:before {content: \"▸\";float: left;margin-right: 0.25em;color: #696969;}#sk-container-id-1 label.sk-toggleable__label-arrow:hover:before {color: black;}#sk-container-id-1 div.sk-estimator:hover label.sk-toggleable__label-arrow:before {color: black;}#sk-container-id-1 div.sk-toggleable__content {max-height: 0;max-width: 0;overflow: hidden;text-align: left;background-color: #f0f8ff;}#sk-container-id-1 div.sk-toggleable__content pre {margin: 0.2em;color: black;border-radius: 0.25em;background-color: #f0f8ff;}#sk-container-id-1 input.sk-toggleable__control:checked~div.sk-toggleable__content {max-height: 200px;max-width: 100%;overflow: auto;}#sk-container-id-1 input.sk-toggleable__control:checked~label.sk-toggleable__label-arrow:before {content: \"▾\";}#sk-container-id-1 div.sk-estimator input.sk-toggleable__control:checked~label.sk-toggleable__label {background-color: #d4ebff;}#sk-container-id-1 div.sk-label input.sk-toggleable__control:checked~label.sk-toggleable__label {background-color: #d4ebff;}#sk-container-id-1 input.sk-hidden--visually {border: 0;clip: rect(1px 1px 1px 1px);clip: rect(1px, 1px, 1px, 1px);height: 1px;margin: -1px;overflow: hidden;padding: 0;position: absolute;width: 1px;}#sk-container-id-1 div.sk-estimator {font-family: monospace;background-color: #f0f8ff;border: 1px dotted black;border-radius: 0.25em;box-sizing: border-box;margin-bottom: 0.5em;}#sk-container-id-1 div.sk-estimator:hover {background-color: #d4ebff;}#sk-container-id-1 div.sk-parallel-item::after {content: \"\";width: 100%;border-bottom: 1px solid gray;flex-grow: 1;}#sk-container-id-1 div.sk-label:hover label.sk-toggleable__label {background-color: #d4ebff;}#sk-container-id-1 div.sk-serial::before {content: \"\";position: absolute;border-left: 1px solid gray;box-sizing: border-box;top: 0;bottom: 0;left: 50%;z-index: 0;}#sk-container-id-1 div.sk-serial {display: flex;flex-direction: column;align-items: center;background-color: white;padding-right: 0.2em;padding-left: 0.2em;position: relative;}#sk-container-id-1 div.sk-item {position: relative;z-index: 1;}#sk-container-id-1 div.sk-parallel {display: flex;align-items: stretch;justify-content: center;background-color: white;position: relative;}#sk-container-id-1 div.sk-item::before, #sk-container-id-1 div.sk-parallel-item::before {content: \"\";position: absolute;border-left: 1px solid gray;box-sizing: border-box;top: 0;bottom: 0;left: 50%;z-index: -1;}#sk-container-id-1 div.sk-parallel-item {display: flex;flex-direction: column;z-index: 1;position: relative;background-color: white;}#sk-container-id-1 div.sk-parallel-item:first-child::after {align-self: flex-end;width: 50%;}#sk-container-id-1 div.sk-parallel-item:last-child::after {align-self: flex-start;width: 50%;}#sk-container-id-1 div.sk-parallel-item:only-child::after {width: 0;}#sk-container-id-1 div.sk-dashed-wrapped {border: 1px dashed gray;margin: 0 0.4em 0.5em 0.4em;box-sizing: border-box;padding-bottom: 0.4em;background-color: white;}#sk-container-id-1 div.sk-label label {font-family: monospace;font-weight: bold;display: inline-block;line-height: 1.2em;}#sk-container-id-1 div.sk-label-container {text-align: center;}#sk-container-id-1 div.sk-container {/* jupyter's `normalize.less` sets `[hidden] { display: none; }` but bootstrap.min.css set `[hidden] { display: none !important; }` so we also need the `!important` here to be able to override the default hidden behavior on the sphinx rendered scikit-learn.org. See: https://github.com/scikit-learn/scikit-learn/issues/21755 */display: inline-block !important;position: relative;}#sk-container-id-1 div.sk-text-repr-fallback {display: none;}</style><div id=\"sk-container-id-1\" class=\"sk-top-container\"><div class=\"sk-text-repr-fallback\"><pre>KNeighborsRegressor()</pre><b>In a Jupyter environment, please rerun this cell to show the HTML representation or trust the notebook. <br />On GitHub, the HTML representation is unable to render, please try loading this page with nbviewer.org.</b></div><div class=\"sk-container\" hidden><div class=\"sk-item\"><div class=\"sk-estimator sk-toggleable\"><input class=\"sk-toggleable__control sk-hidden--visually\" id=\"sk-estimator-id-1\" type=\"checkbox\" checked><label for=\"sk-estimator-id-1\" class=\"sk-toggleable__label sk-toggleable__label-arrow\">KNeighborsRegressor</label><div class=\"sk-toggleable__content\"><pre>KNeighborsRegressor()</pre></div></div></div></div></div>"
      ],
      "text/plain": [
       "KNeighborsRegressor()"
      ]
     },
     "execution_count": 18,
     "metadata": {},
     "output_type": "execute_result"
    }
   ],
   "source": [
    "knn_model.fit(x_train,y_train)"
   ]
  },
  {
   "cell_type": "markdown",
   "id": "22e35c5e",
   "metadata": {},
   "source": [
    "#### Model Evaluation on testing data"
   ]
  },
  {
   "cell_type": "code",
   "execution_count": 19,
   "id": "6d46df9c",
   "metadata": {},
   "outputs": [
    {
     "name": "stdout",
     "output_type": "stream",
     "text": [
      "R-Squared value:- 0.6915705792504037\n",
      "Adjusted R-Squared value:- 0.6790455266311307\n",
      "Mean Absolute error:- 6.485194174757281\n",
      "Mean Squared error:- 77.33045243932038\n",
      "Root mean Square error:- 8.79377350398112\n"
     ]
    }
   ],
   "source": [
    "y_pred=knn_model.predict(x_test)\n",
    "r2=r2_score(y_test,y_pred)\n",
    "print(\"R-Squared value:-\",r2)\n",
    "adj_r2=1-(((1-r2)*(x_test.shape[0]-1)))/(x_test.shape[0]-x_test.shape[1]-1)\n",
    "print(\"Adjusted R-Squared value:-\",adj_r2)\n",
    "mae=mean_absolute_error(y_test,y_pred)\n",
    "print(\"Mean Absolute error:-\",mae)\n",
    "mse=mean_squared_error(y_test,y_pred)\n",
    "print(\"Mean Squared error:-\",mse)\n",
    "rmse=np.sqrt(mse)\n",
    "print(\"Root mean Square error:-\",rmse)"
   ]
  },
  {
   "cell_type": "markdown",
   "id": "879a0852",
   "metadata": {},
   "source": [
    "#### Model evaluation on Training data"
   ]
  },
  {
   "cell_type": "code",
   "execution_count": 20,
   "id": "edd724d8",
   "metadata": {},
   "outputs": [
    {
     "name": "stdout",
     "output_type": "stream",
     "text": [
      "R-Squared value:- 0.8150938977276534\n",
      "Adjusted R-Squared value:- 0.8132788685028942\n",
      "Mean Absolute error:- 5.491429611650486\n",
      "Mean Squared error:- 52.74061283616505\n",
      "Root mean Square error:- 7.262273255404608\n"
     ]
    }
   ],
   "source": [
    "y_pred_train=knn_model.predict(x_train)\n",
    "r2=r2_score(y_train,y_pred_train)\n",
    "print(\"R-Squared value:-\",r2)\n",
    "adj_r2=1-(((1-r2)*(x_train.shape[0]-1)))/(x_train.shape[0]-x_train.shape[1]-1)\n",
    "print(\"Adjusted R-Squared value:-\",adj_r2)\n",
    "mae=mean_absolute_error(y_train,y_pred_train)\n",
    "print(\"Mean Absolute error:-\",mae)\n",
    "mse=mean_squared_error(y_train,y_pred_train)\n",
    "print(\"Mean Squared error:-\",mse)\n",
    "rmse=np.sqrt(mse)\n",
    "print(\"Root mean Square error:-\",rmse)"
   ]
  },
  {
   "cell_type": "code",
   "execution_count": 21,
   "id": "07a8c1e6",
   "metadata": {},
   "outputs": [],
   "source": [
    "########## Choosing best Hyperparameters for KNN regression algorithm........"
   ]
  },
  {
   "cell_type": "code",
   "execution_count": 22,
   "id": "132fa196",
   "metadata": {},
   "outputs": [
    {
     "data": {
      "text/plain": [
       "<matplotlib.legend.Legend at 0x1ada087cfa0>"
      ]
     },
     "execution_count": 22,
     "metadata": {},
     "output_type": "execute_result"
    },
    {
     "data": {
      "image/png": "[encoded data removed]",
      "text/plain": [
       "<Figure size 1080x360 with 1 Axes>"
      ]
     },
     "metadata": {
      "needs_background": "light"
     },
     "output_type": "display_data"
    }
   ],
   "source": [
    "test=[]\n",
    "train=[]\n",
    "for i in range(1,35):\n",
    "    knn=KNeighborsRegressor(n_neighbors=i,p=1)#Here we are using the p=1 means we are using the manhatten distance\n",
    "    knn.fit(x_train,y_train)\n",
    "    y_pred_test=knn.predict(x_test)\n",
    "    r2_test=r2_score(y_test,y_pred_test)\n",
    "    test.append(r2_test)\n",
    "    y_pred_train=knn.predict(x_train)\n",
    "    r2_train=r2_score(y_train,y_pred_train)\n",
    "    train.append(r2_train)\n",
    "plt.figure(figsize=(15,5))\n",
    "plt.plot(test,'r.--',label=\"TEST\")\n",
    "plt.plot(train,'c.--',label=\"TRAIN\")\n",
    "plt.legend()"
   ]
  },
  {
   "cell_type": "raw",
   "id": "d989f6c5",
   "metadata": {},
   "source": [
    "# Here we can observe that features has the various values by their units so we have to do the feature scaling to get them into the specific scale \n",
    "-->here we can do the standardization (StandardScalar)"
   ]
  },
  {
   "cell_type": "code",
   "execution_count": 23,
   "id": "2502527c",
   "metadata": {},
   "outputs": [
    {
     "data": {
      "text/html": [
       "<div>\n",
       "<style scoped>\n",
       "    .dataframe tbody tr th:only-of-type {\n",
       "        vertical-align: middle;\n",
       "    }\n",
       "\n",
       "    .dataframe tbody tr th {\n",
       "        vertical-align: top;\n",
       "    }\n",
       "\n",
       "    .dataframe thead th {\n",
       "        text-align: right;\n",
       "    }\n",
       "</style>\n",
       "<table border=\"1\" class=\"dataframe\">\n",
       "  <thead>\n",
       "    <tr style=\"text-align: right;\">\n",
       "      <th></th>\n",
       "      <th>Cement</th>\n",
       "      <th>Blast Furnace Slag</th>\n",
       "      <th>Fly Ash</th>\n",
       "      <th>Water</th>\n",
       "      <th>Superplasticizer</th>\n",
       "      <th>Coarse Aggregate</th>\n",
       "      <th>Fine Aggregate</th>\n",
       "      <th>Age</th>\n",
       "    </tr>\n",
       "  </thead>\n",
       "  <tbody>\n",
       "    <tr>\n",
       "      <th>0</th>\n",
       "      <td>540.0</td>\n",
       "      <td>0.0</td>\n",
       "      <td>0.0</td>\n",
       "      <td>162.0</td>\n",
       "      <td>2.5</td>\n",
       "      <td>1040.0</td>\n",
       "      <td>676.0</td>\n",
       "      <td>28.0</td>\n",
       "    </tr>\n",
       "    <tr>\n",
       "      <th>1</th>\n",
       "      <td>540.0</td>\n",
       "      <td>0.0</td>\n",
       "      <td>0.0</td>\n",
       "      <td>162.0</td>\n",
       "      <td>2.5</td>\n",
       "      <td>1055.0</td>\n",
       "      <td>676.0</td>\n",
       "      <td>28.0</td>\n",
       "    </tr>\n",
       "    <tr>\n",
       "      <th>2</th>\n",
       "      <td>332.5</td>\n",
       "      <td>142.5</td>\n",
       "      <td>0.0</td>\n",
       "      <td>228.0</td>\n",
       "      <td>0.0</td>\n",
       "      <td>932.0</td>\n",
       "      <td>594.0</td>\n",
       "      <td>129.5</td>\n",
       "    </tr>\n",
       "    <tr>\n",
       "      <th>3</th>\n",
       "      <td>332.5</td>\n",
       "      <td>142.5</td>\n",
       "      <td>0.0</td>\n",
       "      <td>228.0</td>\n",
       "      <td>0.0</td>\n",
       "      <td>932.0</td>\n",
       "      <td>594.0</td>\n",
       "      <td>129.5</td>\n",
       "    </tr>\n",
       "    <tr>\n",
       "      <th>4</th>\n",
       "      <td>198.6</td>\n",
       "      <td>132.4</td>\n",
       "      <td>0.0</td>\n",
       "      <td>192.0</td>\n",
       "      <td>0.0</td>\n",
       "      <td>978.4</td>\n",
       "      <td>825.5</td>\n",
       "      <td>129.5</td>\n",
       "    </tr>\n",
       "  </tbody>\n",
       "</table>\n",
       "</div>"
      ],
      "text/plain": [
       "   Cement  Blast Furnace Slag  Fly Ash  Water  Superplasticizer  \\\n",
       "0   540.0                 0.0      0.0  162.0               2.5   \n",
       "1   540.0                 0.0      0.0  162.0               2.5   \n",
       "2   332.5               142.5      0.0  228.0               0.0   \n",
       "3   332.5               142.5      0.0  228.0               0.0   \n",
       "4   198.6               132.4      0.0  192.0               0.0   \n",
       "\n",
       "   Coarse Aggregate  Fine Aggregate    Age  \n",
       "0            1040.0           676.0   28.0  \n",
       "1            1055.0           676.0   28.0  \n",
       "2             932.0           594.0  129.5  \n",
       "3             932.0           594.0  129.5  \n",
       "4             978.4           825.5  129.5  "
      ]
     },
     "execution_count": 23,
     "metadata": {},
     "output_type": "execute_result"
    }
   ],
   "source": [
    "x.head()"
   ]
  },
  {
   "cell_type": "code",
   "execution_count": 24,
   "id": "35a2da5c",
   "metadata": {},
   "outputs": [
    {
     "data": {
      "text/plain": [
       "0    79.7725\n",
       "1    61.8900\n",
       "2    40.2700\n",
       "3    41.0500\n",
       "4    44.3000\n",
       "Name: Strength, dtype: float64"
      ]
     },
     "execution_count": 24,
     "metadata": {},
     "output_type": "execute_result"
    }
   ],
   "source": [
    "y.head()"
   ]
  },
  {
   "cell_type": "code",
   "execution_count": 25,
   "id": "1cda51cb",
   "metadata": {},
   "outputs": [],
   "source": [
    "x_train,x_test,y_train,y_test=train_test_split(x,y,test_size=0.2,random_state=11111)"
   ]
  },
  {
   "cell_type": "code",
   "execution_count": 26,
   "id": "cf1da2ad",
   "metadata": {},
   "outputs": [
    {
     "data": {
      "text/html": [
       "<div>\n",
       "<style scoped>\n",
       "    .dataframe tbody tr th:only-of-type {\n",
       "        vertical-align: middle;\n",
       "    }\n",
       "\n",
       "    .dataframe tbody tr th {\n",
       "        vertical-align: top;\n",
       "    }\n",
       "\n",
       "    .dataframe thead th {\n",
       "        text-align: right;\n",
       "    }\n",
       "</style>\n",
       "<table border=\"1\" class=\"dataframe\">\n",
       "  <thead>\n",
       "    <tr style=\"text-align: right;\">\n",
       "      <th></th>\n",
       "      <th>Cement</th>\n",
       "      <th>Blast Furnace Slag</th>\n",
       "      <th>Fly Ash</th>\n",
       "      <th>Water</th>\n",
       "      <th>Superplasticizer</th>\n",
       "      <th>Coarse Aggregate</th>\n",
       "      <th>Fine Aggregate</th>\n",
       "      <th>Age</th>\n",
       "    </tr>\n",
       "  </thead>\n",
       "  <tbody>\n",
       "    <tr>\n",
       "      <th>0</th>\n",
       "      <td>-1.073448</td>\n",
       "      <td>-0.343131</td>\n",
       "      <td>1.104546</td>\n",
       "      <td>-1.083196</td>\n",
       "      <td>0.800131</td>\n",
       "      <td>1.374002</td>\n",
       "      <td>0.263782</td>\n",
       "      <td>-0.974906</td>\n",
       "    </tr>\n",
       "    <tr>\n",
       "      <th>1</th>\n",
       "      <td>-1.087601</td>\n",
       "      <td>0.697819</td>\n",
       "      <td>1.171578</td>\n",
       "      <td>-0.267704</td>\n",
       "      <td>0.289238</td>\n",
       "      <td>0.415725</td>\n",
       "      <td>-0.358871</td>\n",
       "      <td>1.733221</td>\n",
       "    </tr>\n",
       "    <tr>\n",
       "      <th>2</th>\n",
       "      <td>0.635255</td>\n",
       "      <td>-0.844021</td>\n",
       "      <td>-0.833139</td>\n",
       "      <td>0.230125</td>\n",
       "      <td>-1.039085</td>\n",
       "      <td>0.977828</td>\n",
       "      <td>-0.065119</td>\n",
       "      <td>-0.863231</td>\n",
       "    </tr>\n",
       "    <tr>\n",
       "      <th>3</th>\n",
       "      <td>0.531468</td>\n",
       "      <td>-0.844021</td>\n",
       "      <td>-0.833139</td>\n",
       "      <td>0.751661</td>\n",
       "      <td>-1.039085</td>\n",
       "      <td>-0.076919</td>\n",
       "      <td>0.072969</td>\n",
       "      <td>-0.667799</td>\n",
       "    </tr>\n",
       "    <tr>\n",
       "      <th>4</th>\n",
       "      <td>0.861698</td>\n",
       "      <td>1.401677</td>\n",
       "      <td>-0.833139</td>\n",
       "      <td>-0.523731</td>\n",
       "      <td>0.680923</td>\n",
       "      <td>-0.615869</td>\n",
       "      <td>-0.232081</td>\n",
       "      <td>-0.276935</td>\n",
       "    </tr>\n",
       "  </tbody>\n",
       "</table>\n",
       "</div>"
      ],
      "text/plain": [
       "     Cement  Blast Furnace Slag   Fly Ash     Water  Superplasticizer  \\\n",
       "0 -1.073448           -0.343131  1.104546 -1.083196          0.800131   \n",
       "1 -1.087601            0.697819  1.171578 -0.267704          0.289238   \n",
       "2  0.635255           -0.844021 -0.833139  0.230125         -1.039085   \n",
       "3  0.531468           -0.844021 -0.833139  0.751661         -1.039085   \n",
       "4  0.861698            1.401677 -0.833139 -0.523731          0.680923   \n",
       "\n",
       "   Coarse Aggregate  Fine Aggregate       Age  \n",
       "0          1.374002        0.263782 -0.974906  \n",
       "1          0.415725       -0.358871  1.733221  \n",
       "2          0.977828       -0.065119 -0.863231  \n",
       "3         -0.076919        0.072969 -0.667799  \n",
       "4         -0.615869       -0.232081 -0.276935  "
      ]
     },
     "execution_count": 26,
     "metadata": {},
     "output_type": "execute_result"
    }
   ],
   "source": [
    "std_scalar=StandardScaler()\n",
    "std_scalar.fit(x_train)\n",
    "array=std_scalar.transform(x_train)\n",
    "x_train=pd.DataFrame(array,columns=x.columns)\n",
    "x_train.head()"
   ]
  },
  {
   "cell_type": "code",
   "execution_count": 27,
   "id": "27f4105e",
   "metadata": {},
   "outputs": [
    {
     "data": {
      "text/html": [
       "<div>\n",
       "<style scoped>\n",
       "    .dataframe tbody tr th:only-of-type {\n",
       "        vertical-align: middle;\n",
       "    }\n",
       "\n",
       "    .dataframe tbody tr th {\n",
       "        vertical-align: top;\n",
       "    }\n",
       "\n",
       "    .dataframe thead th {\n",
       "        text-align: right;\n",
       "    }\n",
       "</style>\n",
       "<table border=\"1\" class=\"dataframe\">\n",
       "  <thead>\n",
       "    <tr style=\"text-align: right;\">\n",
       "      <th></th>\n",
       "      <th>Cement</th>\n",
       "      <th>Blast Furnace Slag</th>\n",
       "      <th>Fly Ash</th>\n",
       "      <th>Water</th>\n",
       "      <th>Superplasticizer</th>\n",
       "      <th>Coarse Aggregate</th>\n",
       "      <th>Fine Aggregate</th>\n",
       "      <th>Age</th>\n",
       "    </tr>\n",
       "  </thead>\n",
       "  <tbody>\n",
       "    <tr>\n",
       "      <th>0</th>\n",
       "      <td>-0.420537</td>\n",
       "      <td>-0.844021</td>\n",
       "      <td>0.633765</td>\n",
       "      <td>0.263314</td>\n",
       "      <td>0.152999</td>\n",
       "      <td>-0.309735</td>\n",
       "      <td>0.901499</td>\n",
       "      <td>-0.974906</td>\n",
       "    </tr>\n",
       "    <tr>\n",
       "      <th>1</th>\n",
       "      <td>2.050525</td>\n",
       "      <td>-0.844021</td>\n",
       "      <td>-0.833139</td>\n",
       "      <td>0.893898</td>\n",
       "      <td>-1.039085</td>\n",
       "      <td>1.942536</td>\n",
       "      <td>-2.036016</td>\n",
       "      <td>-1.030744</td>\n",
       "    </tr>\n",
       "    <tr>\n",
       "      <th>2</th>\n",
       "      <td>0.455987</td>\n",
       "      <td>-0.844021</td>\n",
       "      <td>-0.833139</td>\n",
       "      <td>0.514599</td>\n",
       "      <td>-1.039085</td>\n",
       "      <td>0.656259</td>\n",
       "      <td>0.575108</td>\n",
       "      <td>-0.974906</td>\n",
       "    </tr>\n",
       "    <tr>\n",
       "      <th>3</th>\n",
       "      <td>-0.440351</td>\n",
       "      <td>-0.844021</td>\n",
       "      <td>-0.833139</td>\n",
       "      <td>0.562011</td>\n",
       "      <td>-1.039085</td>\n",
       "      <td>-0.076919</td>\n",
       "      <td>1.378531</td>\n",
       "      <td>2.556827</td>\n",
       "    </tr>\n",
       "    <tr>\n",
       "      <th>4</th>\n",
       "      <td>0.691866</td>\n",
       "      <td>-0.844021</td>\n",
       "      <td>1.380468</td>\n",
       "      <td>0.562011</td>\n",
       "      <td>0.834191</td>\n",
       "      <td>-2.225002</td>\n",
       "      <td>0.035309</td>\n",
       "      <td>-0.276935</td>\n",
       "    </tr>\n",
       "  </tbody>\n",
       "</table>\n",
       "</div>"
      ],
      "text/plain": [
       "     Cement  Blast Furnace Slag   Fly Ash     Water  Superplasticizer  \\\n",
       "0 -0.420537           -0.844021  0.633765  0.263314          0.152999   \n",
       "1  2.050525           -0.844021 -0.833139  0.893898         -1.039085   \n",
       "2  0.455987           -0.844021 -0.833139  0.514599         -1.039085   \n",
       "3 -0.440351           -0.844021 -0.833139  0.562011         -1.039085   \n",
       "4  0.691866           -0.844021  1.380468  0.562011          0.834191   \n",
       "\n",
       "   Coarse Aggregate  Fine Aggregate       Age  \n",
       "0         -0.309735        0.901499 -0.974906  \n",
       "1          1.942536       -2.036016 -1.030744  \n",
       "2          0.656259        0.575108 -0.974906  \n",
       "3         -0.076919        1.378531  2.556827  \n",
       "4         -2.225002        0.035309 -0.276935  "
      ]
     },
     "execution_count": 27,
     "metadata": {},
     "output_type": "execute_result"
    }
   ],
   "source": [
    "array=std_scalar.transform(x_test)\n",
    "x_test_df=pd.DataFrame(array,columns=x_test.columns)\n",
    "x_test_df.head()"
   ]
  },
  {
   "cell_type": "code",
   "execution_count": 28,
   "id": "0d3d9579",
   "metadata": {},
   "outputs": [],
   "source": [
    "x_test=x_test_df"
   ]
  },
  {
   "cell_type": "code",
   "execution_count": 29,
   "id": "a82eb182",
   "metadata": {},
   "outputs": [
    {
     "data": {
      "text/html": [
       "<div>\n",
       "<style scoped>\n",
       "    .dataframe tbody tr th:only-of-type {\n",
       "        vertical-align: middle;\n",
       "    }\n",
       "\n",
       "    .dataframe tbody tr th {\n",
       "        vertical-align: top;\n",
       "    }\n",
       "\n",
       "    .dataframe thead th {\n",
       "        text-align: right;\n",
       "    }\n",
       "</style>\n",
       "<table border=\"1\" class=\"dataframe\">\n",
       "  <thead>\n",
       "    <tr style=\"text-align: right;\">\n",
       "      <th></th>\n",
       "      <th>Cement</th>\n",
       "      <th>Blast Furnace Slag</th>\n",
       "      <th>Fly Ash</th>\n",
       "      <th>Water</th>\n",
       "      <th>Superplasticizer</th>\n",
       "      <th>Coarse Aggregate</th>\n",
       "      <th>Fine Aggregate</th>\n",
       "      <th>Age</th>\n",
       "    </tr>\n",
       "  </thead>\n",
       "  <tbody>\n",
       "    <tr>\n",
       "      <th>0</th>\n",
       "      <td>-0.420537</td>\n",
       "      <td>-0.844021</td>\n",
       "      <td>0.633765</td>\n",
       "      <td>0.263314</td>\n",
       "      <td>0.152999</td>\n",
       "      <td>-0.309735</td>\n",
       "      <td>0.901499</td>\n",
       "      <td>-0.974906</td>\n",
       "    </tr>\n",
       "    <tr>\n",
       "      <th>1</th>\n",
       "      <td>2.050525</td>\n",
       "      <td>-0.844021</td>\n",
       "      <td>-0.833139</td>\n",
       "      <td>0.893898</td>\n",
       "      <td>-1.039085</td>\n",
       "      <td>1.942536</td>\n",
       "      <td>-2.036016</td>\n",
       "      <td>-1.030744</td>\n",
       "    </tr>\n",
       "    <tr>\n",
       "      <th>2</th>\n",
       "      <td>0.455987</td>\n",
       "      <td>-0.844021</td>\n",
       "      <td>-0.833139</td>\n",
       "      <td>0.514599</td>\n",
       "      <td>-1.039085</td>\n",
       "      <td>0.656259</td>\n",
       "      <td>0.575108</td>\n",
       "      <td>-0.974906</td>\n",
       "    </tr>\n",
       "    <tr>\n",
       "      <th>3</th>\n",
       "      <td>-0.440351</td>\n",
       "      <td>-0.844021</td>\n",
       "      <td>-0.833139</td>\n",
       "      <td>0.562011</td>\n",
       "      <td>-1.039085</td>\n",
       "      <td>-0.076919</td>\n",
       "      <td>1.378531</td>\n",
       "      <td>2.556827</td>\n",
       "    </tr>\n",
       "    <tr>\n",
       "      <th>4</th>\n",
       "      <td>0.691866</td>\n",
       "      <td>-0.844021</td>\n",
       "      <td>1.380468</td>\n",
       "      <td>0.562011</td>\n",
       "      <td>0.834191</td>\n",
       "      <td>-2.225002</td>\n",
       "      <td>0.035309</td>\n",
       "      <td>-0.276935</td>\n",
       "    </tr>\n",
       "  </tbody>\n",
       "</table>\n",
       "</div>"
      ],
      "text/plain": [
       "     Cement  Blast Furnace Slag   Fly Ash     Water  Superplasticizer  \\\n",
       "0 -0.420537           -0.844021  0.633765  0.263314          0.152999   \n",
       "1  2.050525           -0.844021 -0.833139  0.893898         -1.039085   \n",
       "2  0.455987           -0.844021 -0.833139  0.514599         -1.039085   \n",
       "3 -0.440351           -0.844021 -0.833139  0.562011         -1.039085   \n",
       "4  0.691866           -0.844021  1.380468  0.562011          0.834191   \n",
       "\n",
       "   Coarse Aggregate  Fine Aggregate       Age  \n",
       "0         -0.309735        0.901499 -0.974906  \n",
       "1          1.942536       -2.036016 -1.030744  \n",
       "2          0.656259        0.575108 -0.974906  \n",
       "3         -0.076919        1.378531  2.556827  \n",
       "4         -2.225002        0.035309 -0.276935  "
      ]
     },
     "execution_count": 29,
     "metadata": {},
     "output_type": "execute_result"
    }
   ],
   "source": [
    "x_test.head()"
   ]
  },
  {
   "cell_type": "code",
   "execution_count": 31,
   "id": "a432d82b",
   "metadata": {},
   "outputs": [
    {
     "data": {
      "text/html": [
       "<style>#sk-container-id-2 {color: black;background-color: white;}#sk-container-id-2 pre{padding: 0;}#sk-container-id-2 div.sk-toggleable {background-color: white;}#sk-container-id-2 label.sk-toggleable__label {cursor: pointer;display: block;width: 100%;margin-bottom: 0;padding: 0.3em;box-sizing: border-box;text-align: center;}#sk-container-id-2 label.sk-toggleable__label-arrow:before {content: \"▸\";float: left;margin-right: 0.25em;color: #696969;}#sk-container-id-2 label.sk-toggleable__label-arrow:hover:before {color: black;}#sk-container-id-2 div.sk-estimator:hover label.sk-toggleable__label-arrow:before {color: black;}#sk-container-id-2 div.sk-toggleable__content {max-height: 0;max-width: 0;overflow: hidden;text-align: left;background-color: #f0f8ff;}#sk-container-id-2 div.sk-toggleable__content pre {margin: 0.2em;color: black;border-radius: 0.25em;background-color: #f0f8ff;}#sk-container-id-2 input.sk-toggleable__control:checked~div.sk-toggleable__content {max-height: 200px;max-width: 100%;overflow: auto;}#sk-container-id-2 input.sk-toggleable__control:checked~label.sk-toggleable__label-arrow:before {content: \"▾\";}#sk-container-id-2 div.sk-estimator input.sk-toggleable__control:checked~label.sk-toggleable__label {background-color: #d4ebff;}#sk-container-id-2 div.sk-label input.sk-toggleable__control:checked~label.sk-toggleable__label {background-color: #d4ebff;}#sk-container-id-2 input.sk-hidden--visually {border: 0;clip: rect(1px 1px 1px 1px);clip: rect(1px, 1px, 1px, 1px);height: 1px;margin: -1px;overflow: hidden;padding: 0;position: absolute;width: 1px;}#sk-container-id-2 div.sk-estimator {font-family: monospace;background-color: #f0f8ff;border: 1px dotted black;border-radius: 0.25em;box-sizing: border-box;margin-bottom: 0.5em;}#sk-container-id-2 div.sk-estimator:hover {background-color: #d4ebff;}#sk-container-id-2 div.sk-parallel-item::after {content: \"\";width: 100%;border-bottom: 1px solid gray;flex-grow: 1;}#sk-container-id-2 div.sk-label:hover label.sk-toggleable__label {background-color: #d4ebff;}#sk-container-id-2 div.sk-serial::before {content: \"\";position: absolute;border-left: 1px solid gray;box-sizing: border-box;top: 0;bottom: 0;left: 50%;z-index: 0;}#sk-container-id-2 div.sk-serial {display: flex;flex-direction: column;align-items: center;background-color: white;padding-right: 0.2em;padding-left: 0.2em;position: relative;}#sk-container-id-2 div.sk-item {position: relative;z-index: 1;}#sk-container-id-2 div.sk-parallel {display: flex;align-items: stretch;justify-content: center;background-color: white;position: relative;}#sk-container-id-2 div.sk-item::before, #sk-container-id-2 div.sk-parallel-item::before {content: \"\";position: absolute;border-left: 1px solid gray;box-sizing: border-box;top: 0;bottom: 0;left: 50%;z-index: -1;}#sk-container-id-2 div.sk-parallel-item {display: flex;flex-direction: column;z-index: 1;position: relative;background-color: white;}#sk-container-id-2 div.sk-parallel-item:first-child::after {align-self: flex-end;width: 50%;}#sk-container-id-2 div.sk-parallel-item:last-child::after {align-self: flex-start;width: 50%;}#sk-container-id-2 div.sk-parallel-item:only-child::after {width: 0;}#sk-container-id-2 div.sk-dashed-wrapped {border: 1px dashed gray;margin: 0 0.4em 0.5em 0.4em;box-sizing: border-box;padding-bottom: 0.4em;background-color: white;}#sk-container-id-2 div.sk-label label {font-family: monospace;font-weight: bold;display: inline-block;line-height: 1.2em;}#sk-container-id-2 div.sk-label-container {text-align: center;}#sk-container-id-2 div.sk-container {/* jupyter's `normalize.less` sets `[hidden] { display: none; }` but bootstrap.min.css set `[hidden] { display: none !important; }` so we also need the `!important` here to be able to override the default hidden behavior on the sphinx rendered scikit-learn.org. See: https://github.com/scikit-learn/scikit-learn/issues/21755 */display: inline-block !important;position: relative;}#sk-container-id-2 div.sk-text-repr-fallback {display: none;}</style><div id=\"sk-container-id-2\" class=\"sk-top-container\"><div class=\"sk-text-repr-fallback\"><pre>KNeighborsRegressor()</pre><b>In a Jupyter environment, please rerun this cell to show the HTML representation or trust the notebook. <br />On GitHub, the HTML representation is unable to render, please try loading this page with nbviewer.org.</b></div><div class=\"sk-container\" hidden><div class=\"sk-item\"><div class=\"sk-estimator sk-toggleable\"><input class=\"sk-toggleable__control sk-hidden--visually\" id=\"sk-estimator-id-2\" type=\"checkbox\" checked><label for=\"sk-estimator-id-2\" class=\"sk-toggleable__label sk-toggleable__label-arrow\">KNeighborsRegressor</label><div class=\"sk-toggleable__content\"><pre>KNeighborsRegressor()</pre></div></div></div></div></div>"
      ],
      "text/plain": [
       "KNeighborsRegressor()"
      ]
     },
     "execution_count": 31,
     "metadata": {},
     "output_type": "execute_result"
    }
   ],
   "source": [
    "knn=KNeighborsRegressor()\n",
    "knn.fit(x_train,y_train)"
   ]
  },
  {
   "cell_type": "code",
   "execution_count": 32,
   "id": "e2ebbc60",
   "metadata": {},
   "outputs": [
    {
     "name": "stdout",
     "output_type": "stream",
     "text": [
      "R-Squared value:- 0.6844720949662135\n",
      "Adjusted R-Squared value:- 0.6716587790257552\n",
      "Mean Absolute error:- 6.394393203883495\n",
      "Mean Squared error:- 79.37397349999998\n",
      "Root mean Square error:- 8.909207231847287\n"
     ]
    }
   ],
   "source": [
    "y_pred=knn.predict(x_test)\n",
    "r2=r2_score(y_test,y_pred)\n",
    "print(\"R-Squared value:-\",r2)\n",
    "adj_r2=1-(((1-r2)*(x_test.shape[0]-1)))/(x_test.shape[0]-x_test.shape[1]-1)\n",
    "print(\"Adjusted R-Squared value:-\",adj_r2)\n",
    "mae=mean_absolute_error(y_test,y_pred)\n",
    "print(\"Mean Absolute error:-\",mae)\n",
    "mse=mean_squared_error(y_test,y_pred)\n",
    "print(\"Mean Squared error:-\",mse)\n",
    "rmse=np.sqrt(mse)\n",
    "print(\"Root mean Square error:-\",rmse)"
   ]
  },
  {
   "cell_type": "code",
   "execution_count": 34,
   "id": "ce2b78ae",
   "metadata": {},
   "outputs": [
    {
     "name": "stdout",
     "output_type": "stream",
     "text": [
      "R-Squared value:- 0.8645206055515295\n",
      "Adjusted R-Squared value:- 0.8631907464649188\n",
      "Mean Absolute error:- 4.737539441747573\n",
      "Mean Squared error:- 38.51961713501213\n",
      "Root mean Square error:- 6.206417415467005\n"
     ]
    }
   ],
   "source": [
    "y_pred_train=knn.predict(x_train)\n",
    "r2=r2_score(y_train,y_pred_train)\n",
    "print(\"R-Squared value:-\",r2)\n",
    "adj_r2=1-(((1-r2)*(x_train.shape[0]-1)))/(x_train.shape[0]-x_train.shape[1]-1)\n",
    "print(\"Adjusted R-Squared value:-\",adj_r2)\n",
    "mae=mean_absolute_error(y_train,y_pred_train)\n",
    "print(\"Mean Absolute error:-\",mae)\n",
    "mse=mean_squared_error(y_train,y_pred_train)\n",
    "print(\"Mean Squared error:-\",mse)\n",
    "rmse=np.sqrt(mse)\n",
    "print(\"Root mean Square error:-\",rmse)"
   ]
  },
  {
   "cell_type": "code",
   "execution_count": 36,
   "id": "0c840575",
   "metadata": {},
   "outputs": [
    {
     "data": {
      "text/plain": [
       "<matplotlib.legend.Legend at 0x1ada108c4c0>"
      ]
     },
     "execution_count": 36,
     "metadata": {},
     "output_type": "execute_result"
    },
    {
     "data": {
      "image/png": "[encoded data removed]",
      "text/plain": [
       "<Figure size 1080x360 with 1 Axes>"
      ]
     },
     "metadata": {
      "needs_background": "light"
     },
     "output_type": "display_data"
    }
   ],
   "source": [
    "test=[]\n",
    "train=[]\n",
    "for i in range(1,35):\n",
    "    knn=KNeighborsRegressor(n_neighbors=i,p=2)#Here we are using the p=1 means we are using the manhatten distance\n",
    "    knn.fit(x_train,y_train)\n",
    "    y_pred_test=knn.predict(x_test)\n",
    "    r2_test=r2_score(y_test,y_pred_test)\n",
    "    test.append(r2_test)\n",
    "    y_pred_train=knn.predict(x_train)\n",
    "    r2_train=r2_score(y_train,y_pred_train)\n",
    "    train.append(r2_train)\n",
    "plt.figure(figsize=(15,5))\n",
    "plt.plot(test,'r.--',label=\"TEST\")\n",
    "plt.plot(train,'c.--',label=\"TRAIN\")\n",
    "plt.legend()"
   ]
  },
  {
   "cell_type": "code",
   "execution_count": 37,
   "id": "1102bdf6",
   "metadata": {},
   "outputs": [],
   "source": [
    "import pickle\n",
    "with open('concrete_model.pkl','wb')as f:\n",
    "    pickle.dump(knn,f)"
   ]
  },
  {
   "cell_type": "code",
   "execution_count": 38,
   "id": "f1795b7a",
   "metadata": {},
   "outputs": [],
   "source": [
    "with open('std_scalar.pkl','wb')as f:\n",
    "    pickle.dump(std_scalar,f)"
   ]
  },
  {
   "cell_type": "code",
   "execution_count": 39,
   "id": "ca3044ee",
   "metadata": {},
   "outputs": [],
   "source": [
    "data={\"columns\":list(x.columns)}\n",
    "import json\n",
    "with open('concrete_data.json','w')as f:\n",
    "    json.dump(data,f)"
   ]
  },
  {
   "cell_type": "code",
   "execution_count": 40,
   "id": "63af62d7",
   "metadata": {},
   "outputs": [
    {
     "data": {
      "text/plain": [
       "Index(['Cement', 'Blast Furnace Slag', 'Fly Ash', 'Water', 'Superplasticizer',\n",
       "       'Coarse Aggregate', 'Fine Aggregate', 'Age'],\n",
       "      dtype='object')"
      ]
     },
     "execution_count": 40,
     "metadata": {},
     "output_type": "execute_result"
    }
   ],
   "source": [
    "x.columns"
   ]
  },
  {
   "cell_type": "code",
   "execution_count": null,
   "id": "9d1658aa",
   "metadata": {},
   "outputs": [],
   "source": []
  }
 ],
 "metadata": {
  "kernelspec": {
   "display_name": "Python 3 (ipykernel)",
   "language": "python",
   "name": "python3"
  },
  "language_info": {
   "codemirror_mode": {
    "name": "ipython",
    "version": 3
   },
   "file_extension": ".py",
   "mimetype": "text/x-python",
   "name": "python",
   "nbconvert_exporter": "python",
   "pygments_lexer": "ipython3",
   "version": "3.10.5"
  }
 },
 "nbformat": 4,
 "nbformat_minor": 5
}
